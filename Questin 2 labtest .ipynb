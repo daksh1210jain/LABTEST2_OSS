{
 "cells": [
  {
   "cell_type": "markdown",
   "id": "8dadad28",
   "metadata": {},
   "source": [
    "QUESTION 2"
   ]
  },
  {
   "cell_type": "code",
   "execution_count": 11,
   "id": "ba5e390c",
   "metadata": {},
   "outputs": [],
   "source": [
    "import numpy as np"
   ]
  },
  {
   "cell_type": "code",
   "execution_count": 16,
   "id": "cb671859",
   "metadata": {},
   "outputs": [],
   "source": [
    "arr=np.array(['rushi','rishav','saarthak','daksh','khushi'])"
   ]
  },
  {
   "cell_type": "code",
   "execution_count": 17,
   "id": "875ee14e",
   "metadata": {},
   "outputs": [],
   "source": [
    "def count_vowels(s):\n",
    "        return len(set([char for char in s if char in 'aeiou']))"
   ]
  },
  {
   "cell_type": "code",
   "execution_count": 18,
   "id": "d9d4573c",
   "metadata": {},
   "outputs": [],
   "source": [
    "def string_with_most_vowels(arr):\n",
    "    max_vowels = -1\n",
    "    result = \"\"\n",
    "    for s in arr:\n",
    "        vowels = count_vowels(s)\n",
    "        if vowels > max_vowels or (vowels == max_vowels and s < result):\n",
    "            max_vowels = vowels\n",
    "            result = s\n",
    "    return result"
   ]
  },
  {
   "cell_type": "code",
   "execution_count": 19,
   "id": "3994478e",
   "metadata": {},
   "outputs": [
    {
     "name": "stdout",
     "output_type": "stream",
     "text": [
      "khushi\n"
     ]
    }
   ],
   "source": [
    "print(string_with_most_vowels(arr))"
   ]
  },
  {
   "cell_type": "code",
   "execution_count": null,
   "id": "da93c148",
   "metadata": {},
   "outputs": [],
   "source": []
  }
 ],
 "metadata": {
  "kernelspec": {
   "display_name": "Python 3 (ipykernel)",
   "language": "python",
   "name": "python3"
  },
  "language_info": {
   "codemirror_mode": {
    "name": "ipython",
    "version": 3
   },
   "file_extension": ".py",
   "mimetype": "text/x-python",
   "name": "python",
   "nbconvert_exporter": "python",
   "pygments_lexer": "ipython3",
   "version": "3.11.5"
  }
 },
 "nbformat": 4,
 "nbformat_minor": 5
}
